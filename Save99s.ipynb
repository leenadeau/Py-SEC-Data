{
 "cells": [
  {
   "cell_type": "markdown",
   "metadata": {},
   "source": [
    "# Exhibit 99.1"
   ]
  },
  {
   "cell_type": "code",
   "execution_count": 81,
   "metadata": {},
   "outputs": [
    {
     "name": "stdout",
     "output_type": "stream",
     "text": [
      "Successfully created the directory /Users/Lee/Desktop/MSFT \n",
      "/Users/Lee/Desktop/sec_edgar_filings/MSFT/8-K/0001193125-19-022553.txt\n",
      "/Users/Lee/Desktop/sec_edgar_filings/MSFT/8-K/0001193125-19-249565.txt\n",
      "/Users/Lee/Desktop/sec_edgar_filings/MSFT/8-K/0001193125-18-337951.txt\n",
      "/Users/Lee/Desktop/sec_edgar_filings/MSFT/8-K/0001193125-18-221458.txt\n",
      "/Users/Lee/Desktop/sec_edgar_filings/MSFT/8-K/0001193125-19-307138.txt\n",
      "/Users/Lee/Desktop/sec_edgar_filings/MSFT/8-K/0001193125-19-272562.txt\n",
      "/Users/Lee/Desktop/sec_edgar_filings/MSFT/8-K/0001193125-19-196501.txt\n",
      "/Users/Lee/Desktop/sec_edgar_filings/MSFT/8-K/0001193125-18-277602.txt\n",
      "/Users/Lee/Desktop/sec_edgar_filings/MSFT/8-K/0001193125-19-117108.txt\n",
      "/Users/Lee/Desktop/sec_edgar_filings/MSFT/8-K/0001193125-18-306365.txt\n"
     ]
    }
   ],
   "source": [
    "            ### Paramaters\n",
    "stock = \"MSFT\"\n",
    "#+ str(stock) +\n",
    "back = 10\n",
    "\n",
    "\n",
    "            ## Librarys\n",
    "from sec_edgar_downloader import Downloader\n",
    "import os\n",
    "from bs4 import BeautifulSoup\n",
    "import sys\n",
    "\n",
    "\n",
    "            ## Set filepath\n",
    "path=\"/Users/Lee/Desktop\"\n",
    "os.chdir(path)\n",
    "#os.getcwd()\n",
    "\n",
    "\n",
    "            ## Downloader\n",
    "dl = Downloader(\"/Users/Lee/Desktop\")\n",
    "\n",
    "\n",
    "            ## Get 8-K Data\n",
    "dl.get_8k_filings(stock, back)\n",
    "\n",
    "\n",
    "import os\n",
    "\n",
    "# define the name of the directory to be created\n",
    "path = \"/Users/Lee/Desktop/\" + str(stock)\n",
    "\n",
    "try:\n",
    "    os.mkdir(path)\n",
    "except OSError:\n",
    "    print (\"Creation of the directory %s failed\" % path)\n",
    "else:\n",
    "    print (\"Successfully created the directory %s \" % path)\n",
    "    \n",
    "            ## Set filepath\n",
    "path=\"/Users/Lee/Desktop/\"+ str(stock)\n",
    "os.chdir(path)    \n",
    "    \n",
    "    \n",
    "            ## Clean folder data\n",
    "import os,glob\n",
    "folder_path = '/Users/Lee/Desktop/sec_edgar_filings/'+ str(stock) +'/8-K'\n",
    "counter = 1\n",
    "for filename in glob.glob(os.path.join(folder_path, '*.txt')):\n",
    "  with open(filename, 'r') as f:\n",
    "    text = f.read()\n",
    "    print(filename)\n",
    "    with open(filename)as fobj:\n",
    "        text1 = fobj.read()\n",
    "        \n",
    "    file = open(str(stock) + '_' + str(counter) + '.txt','w')\n",
    "\n",
    "    ## Beautiful Soup\n",
    "    cleantext = BeautifulSoup(text1, 'lxml').text\n",
    "    #print(cleantext)\n",
    "    \n",
    "    if 'EX-99.1' in cleantext:\n",
    "        cleantext = cleantext.split('EX-99.1')[3]\n",
    "    else:\n",
    "        continue\n",
    "        \n",
    "    if 'EX-101.SCH' in cleantext:\n",
    "        cleantext = cleantext.split('EX-101.SCH')[0]\n",
    "    else:\n",
    "        continue\n",
    "    \n",
    "    file.write(cleantext)\n",
    "    file.close() \n",
    "    counter = counter +1\n",
    "\n",
    "\n"
   ]
  },
  {
   "cell_type": "code",
   "execution_count": 64,
   "metadata": {},
   "outputs": [
    {
     "ename": "AttributeError",
     "evalue": "'list' object has no attribute 'split'",
     "output_type": "error",
     "traceback": [
      "\u001b[0;31m---------------------------------------------------------------------------\u001b[0m",
      "\u001b[0;31mAttributeError\u001b[0m                            Traceback (most recent call last)",
      "\u001b[0;32m<ipython-input-64-d9fd32eb92bc>\u001b[0m in \u001b[0;36m<module>\u001b[0;34m\u001b[0m\n\u001b[0;32m----> 1\u001b[0;31m \u001b[0mcleantext\u001b[0m\u001b[0;34m.\u001b[0m\u001b[0msplit\u001b[0m\u001b[0;34m(\u001b[0m\u001b[0;34m'EX-99.1'\u001b[0m\u001b[0;34m)\u001b[0m\u001b[0;34m[\u001b[0m\u001b[0;36m0\u001b[0m\u001b[0;34m]\u001b[0m\u001b[0;34m\u001b[0m\u001b[0;34m\u001b[0m\u001b[0m\n\u001b[0m",
      "\u001b[0;31mAttributeError\u001b[0m: 'list' object has no attribute 'split'"
     ]
    }
   ],
   "source": [
    "cleantext.split('EX-99.1')[0]"
   ]
  },
  {
   "cell_type": "code",
   "execution_count": null,
   "metadata": {},
   "outputs": [],
   "source": []
  }
 ],
 "metadata": {
  "kernelspec": {
   "display_name": "Python 3",
   "language": "python",
   "name": "python3"
  },
  "language_info": {
   "codemirror_mode": {
    "name": "ipython",
    "version": 3
   },
   "file_extension": ".py",
   "mimetype": "text/x-python",
   "name": "python",
   "nbconvert_exporter": "python",
   "pygments_lexer": "ipython3",
   "version": "3.7.6"
  }
 },
 "nbformat": 4,
 "nbformat_minor": 4
}
